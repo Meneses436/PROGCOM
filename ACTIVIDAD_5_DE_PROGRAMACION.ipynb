{
  "nbformat": 4,
  "nbformat_minor": 0,
  "metadata": {
    "colab": {
      "provenance": []
    },
    "kernelspec": {
      "name": "python3",
      "display_name": "Python 3"
    },
    "language_info": {
      "name": "python"
    }
  },
  "cells": [
    {
      "cell_type": "code",
      "execution_count": 1,
      "metadata": {
        "colab": {
          "base_uri": "https://localhost:8080/"
        },
        "id": "QawRDukspYwp",
        "outputId": "ca20be43-90ca-49f5-ca5f-00b31f1b119b"
      },
      "outputs": [
        {
          "output_type": "stream",
          "name": "stdout",
          "text": [
            "1. Números divisibles por 6 del 1 al 60:\n",
            "[6, 12, 18, 24, 30, 36, 42, 48, 54, 60]\n"
          ]
        }
      ],
      "source": [
        "# 1: Números divisibles por 6 del 1 al 60\n",
        "divisibles_por_6 = [n for n in range(1, 61) if n % 6 == 0]\n",
        "print(\"1. Números divisibles por 6 del 1 al 60:\")\n",
        "print(divisibles_por_6)"
      ]
    },
    {
      "cell_type": "code",
      "source": [
        "# 2: Nombres que empiezan con \"A\"\n",
        "nombres = [\"Angelica\", \"David\", \"Andrés\", \"Marío\", \"Alberto\", \"Sofía\"]\n",
        "nombres_con_A = [nombre for nombre in nombres if nombre.startswith(\"A\")]\n",
        "print(\"\\n2. Nombres que empiezan con 'A':\")\n",
        "print(nombres_con_A)"
      ],
      "metadata": {
        "colab": {
          "base_uri": "https://localhost:8080/"
        },
        "id": "SIhmM3gipyvG",
        "outputId": "eebb4817-e47a-40fc-b708-12ea0eda4da9"
      },
      "execution_count": 2,
      "outputs": [
        {
          "output_type": "stream",
          "name": "stdout",
          "text": [
            "\n",
            "2. Nombres que empiezan con 'A':\n",
            "['Angelica', 'Andrés', 'Alberto']\n"
          ]
        }
      ]
    },
    {
      "cell_type": "code",
      "source": [
        "# 3: Números primos entre 0 y 70\n",
        "es_primo = lambda x: x > 1 and all(x % i != 0 for i in range(2, int(x**0.5) + 1))\n",
        "primos_0_70 = [n for n in range(71) if es_primo(n)]\n",
        "print(\"\\n3. Números primos entre 0 y 70:\")\n",
        "print(primos_0_70)"
      ],
      "metadata": {
        "colab": {
          "base_uri": "https://localhost:8080/"
        },
        "id": "WcHsxu7tqIBY",
        "outputId": "fdc476f9-ca9f-4858-d584-000a1acde4fb"
      },
      "execution_count": 3,
      "outputs": [
        {
          "output_type": "stream",
          "name": "stdout",
          "text": [
            "\n",
            "3. Números primos entre 0 y 70:\n",
            "[2, 3, 5, 7, 11, 13, 17, 19, 23, 29, 31, 37, 41, 43, 47, 53, 59, 61, 67]\n"
          ]
        }
      ]
    }
  ]
}