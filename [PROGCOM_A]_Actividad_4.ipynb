{
  "nbformat": 4,
  "nbformat_minor": 0,
  "metadata": {
    "colab": {
      "provenance": []
    },
    "kernelspec": {
      "name": "python3",
      "display_name": "Python 3"
    },
    "language_info": {
      "name": "python"
    }
  },
  "cells": [
    {
      "cell_type": "markdown",
      "source": [
        "EJERCICIO #5"
      ],
      "metadata": {
        "id": "RFe4k01aJEtw"
      }
    },
    {
      "cell_type": "code",
      "source": [],
      "metadata": {
        "id": "kss4agWmJEfH"
      },
      "execution_count": null,
      "outputs": []
    },
    {
      "cell_type": "markdown",
      "source": [
        "EJERCICIO #6"
      ],
      "metadata": {
        "id": "emGLZ8nUIJRg"
      }
    },
    {
      "cell_type": "code",
      "execution_count": 2,
      "metadata": {
        "colab": {
          "base_uri": "https://localhost:8080/"
        },
        "id": "IJ9M8RNdGZQ5",
        "outputId": "8c40f754-25d7-4115-bc8d-4bcfa04f0626"
      },
      "outputs": [
        {
          "output_type": "stream",
          "name": "stdout",
          "text": [
            "Comprobemos si un numero es par o impar\n",
            "Digite el numero 2\n",
            "numero es par \n"
          ]
        }
      ],
      "source": [
        "def par(numero):\n",
        "  print(\"Comprobemos si un numero es par o impar\")\n",
        "  numero= int(input(\"Digite el numero \"))\n",
        "\n",
        "  if numero %2 == 0:\n",
        "    print(\"numero es par \")\n",
        "  else:\n",
        "    print(\"numero es impar \")\n",
        "\n",
        "par(0)"
      ]
    },
    {
      "cell_type": "markdown",
      "source": [
        "EJERCICIO #7"
      ],
      "metadata": {
        "id": "5cK5AEiTJUE-"
      }
    },
    {
      "cell_type": "code",
      "source": [
        "def bisiesto(numero):\n",
        "  print(\"Veamos si un año es bisiesto o no\")\n",
        "  año = int(input(\"Digite el año \"))\n",
        "  if año % 4 == 0 and año %100 != 0 or año %400 == 0:\n",
        "    print(\"Es bisiesto\")\n",
        "  else:\n",
        "    print(\"No es bisiesto\")\n",
        "\n",
        "bisiesto(0)"
      ],
      "metadata": {
        "colab": {
          "base_uri": "https://localhost:8080/"
        },
        "id": "YkwHXviFJVru",
        "outputId": "c0722128-6372-4c86-e5c4-0338c5b8cec9"
      },
      "execution_count": null,
      "outputs": [
        {
          "output_type": "stream",
          "name": "stdout",
          "text": [
            "Veremos si un año es bisiesto o no\n",
            "Digite el año 0\n",
            "Es bisiesto\n"
          ]
        }
      ]
    },
    {
      "cell_type": "markdown",
      "source": [
        "EJERCICIO #8\n"
      ],
      "metadata": {
        "id": "_abeinRmJ5PG"
      }
    },
    {
      "cell_type": "code",
      "source": [
        "def fila(edad):\n",
        "  print(\"Escriba un programa que solicite el nombre del usuario y determine si una persona pertenece a la tercera edad (70 años o más) y si se cumple la condición, imprima que se le da prioridad en la fila.\")\n",
        "\n",
        "  edad = int(input(\"Digite su edad \"))\n",
        "  if edad >= 70:\n",
        "    print(\"Tienes prioridad en la fila\")\n",
        "  else:\n",
        "    print(\"No tienes prioridad\")\n",
        "\n",
        "fila(0)"
      ],
      "metadata": {
        "colab": {
          "base_uri": "https://localhost:8080/"
        },
        "id": "5TYcSi8fJ7Tu",
        "outputId": "ca218ba5-c4b7-4234-8e55-e80cbbafd39a"
      },
      "execution_count": null,
      "outputs": [
        {
          "output_type": "stream",
          "name": "stdout",
          "text": [
            "Escribe un programa que solicite el nombre del usuario y determine si una persona pertenece a la tercera edad (70 años o más) y si se cumple la condición, imprima que se le da prioridad en la fila.\n",
            "Digite su edad 70\n",
            "Tienes prioridad en la fila\n"
          ]
        }
      ]
    },
    {
      "cell_type": "markdown",
      "source": [
        "EJERCICIO #9"
      ],
      "metadata": {
        "id": "4SxywHaPKgQW"
      }
    },
    {
      "cell_type": "code",
      "source": [
        "def comparador(num1,num2,num3):\n",
        "  print(\"Desarrolla un programa que compare tres números y muestre el mayor.\")\n",
        "\n",
        "  num1 = int(input(\"Digite un numero: \"))\n",
        "  num2 = int(input(\"Digite un numero: \"))\n",
        "  num3 = int(input(\"Digite un numero: \"))\n",
        "\n",
        "  if num1 > num2 and num1 > num3:\n",
        "    print(\"El numero 1 es el mayor\")\n",
        "  elif num2 > num1 and num2 > num3:\n",
        "    print(\"El numero 2 es el mayor\")\n",
        "  elif num3 > num2 and num3 > num1:\n",
        "    print(\"El numero 3 es el mayor\")\n",
        "  else:\n",
        "    print(\"Todos son iguales\")\n",
        "\n",
        "comparador(0,0,0)"
      ],
      "metadata": {
        "colab": {
          "base_uri": "https://localhost:8080/"
        },
        "id": "T-3fsjDrKhWl",
        "outputId": "7843cd43-39b9-49b6-e343-7c3631bffa7b"
      },
      "execution_count": null,
      "outputs": [
        {
          "output_type": "stream",
          "name": "stdout",
          "text": [
            "Desarrolla un programa que compare tres números y muestre el mayor.\n",
            "Digite un numero: 1\n",
            "Digite un numero: 1\n",
            "Digite un numero: 1\n",
            "Todos son iguales\n"
          ]
        }
      ]
    },
    {
      "cell_type": "markdown",
      "source": [
        "EJERCICIO #10\n"
      ],
      "metadata": {
        "id": "GfaKGhMzLC6u"
      }
    },
    {
      "cell_type": "code",
      "source": [
        "def tipotriagunlo(num1,num2,num3):\n",
        "\n",
        "  print(\"Desarrola para que identifique si es escaleno, equilatero, isosceles\")\n",
        "\n",
        "  num1 = int(input(\"Digite un numero: \"))\n",
        "  num2 = int(input(\"Digite un numero: \"))\n",
        "  num3 = int(input(\"Digite un numero: \"))\n",
        "\n",
        "\n",
        "  if num1 == num2 and num1 == num3:\n",
        "    print(\"Tu triangulo es equilatero\")\n",
        "  elif num1 == num2 or num1 == num3 or num3 == num2:\n",
        "    print(\"Tu triagunlo es isoceles\")\n",
        "  else:\n",
        "    print(\"tu triangulo es escaleno\")\n",
        "\n",
        "tipotriagunlo(0,0,0)"
      ],
      "metadata": {
        "colab": {
          "base_uri": "https://localhost:8080/"
        },
        "id": "FIHlJFpjLEPF",
        "outputId": "8ac5778a-783d-42a9-8a29-628094e2688f"
      },
      "execution_count": null,
      "outputs": [
        {
          "output_type": "stream",
          "name": "stdout",
          "text": [
            "Desarrola para que identifique si es escaleno, equilatero, isosceles\n",
            "Digite un numero: 2\n",
            "Digite un numero: 2\n",
            "Digite un numero: 2\n",
            "Tu triangulo es equilatero\n"
          ]
        }
      ]
    },
    {
      "cell_type": "markdown",
      "source": [
        "EJERCICIO #11"
      ],
      "metadata": {
        "id": "4pc3Fg1QLrBd"
      }
    },
    {
      "cell_type": "code",
      "source": [
        "def imc(continuar,nombre,peso,altura,imc,categoria,descripcion):\n",
        "  continuar = True\n",
        "  while continuar == True:\n",
        "\n",
        "      nombre = input(\"Introduce tu nombre: \")\n",
        "      peso = float(input(\"Introduce tu peso en kg: \"))\n",
        "      altura = float(input(\"Introduce tu altura en metros: \"))\n",
        "\n",
        "      imc = peso / (altura ** 2)\n",
        "\n",
        "      if imc < 18.5:\n",
        "          categoria = \"Bajo peso\"\n",
        "          descripcion = \"Debes aumentar de peso de manera saludable.\"\n",
        "      elif 18.5 <= imc < 25:\n",
        "          categoria = \"Normal\"\n",
        "          descripcion = \"Mantén un estilo de vida saludable.\"\n",
        "      elif 25 <= imc < 30:\n",
        "          categoria = \"Sobrepeso\"\n",
        "          descripcion = \"Debes reducir tu peso de manera saludable.\"\n",
        "      else:\n",
        "          categoria = \"Obesidad\"\n",
        "          descripcion = \"Debes consultar a un especialista para reducir tu peso.\"\n",
        "\n",
        "      print(f\"{nombre}, tu categoría es {categoria}. {descripcion}\")\n",
        "      respuesta = input(\"¿Desea realizar otro calculo? digite (si/no)\")\n",
        "\n",
        "      if respuesta == \"si\":\n",
        "        continuar = True\n",
        "      if respuesta == \"no\":\n",
        "        continuar = False\n",
        "imc(0,0,0,0,0,0,0)"
      ],
      "metadata": {
        "colab": {
          "base_uri": "https://localhost:8080/"
        },
        "id": "vjasiiVALvul",
        "outputId": "0740cd27-6b2b-41ee-90d5-f136eb1299eb"
      },
      "execution_count": null,
      "outputs": [
        {
          "name": "stdout",
          "output_type": "stream",
          "text": [
            "Introduce tu nombre: David\n",
            "Introduce tu peso en kg: 85\n",
            "Introduce tu altura en metros: 1.86\n",
            "David, tu categoría es Normal. Mantén un estilo de vida saludable.\n",
            "¿Desea realizar otro calculo? digite (si/no)no\n"
          ]
        }
      ]
    },
    {
      "cell_type": "markdown",
      "source": [
        "EJERCICIO #12"
      ],
      "metadata": {
        "id": "NOyDb9swMql7"
      }
    },
    {
      "cell_type": "code",
      "source": [
        "def calculadora(num1,num2,operacion,resultado):\n",
        "    num1 = float(input(\"Introduce el primer número: \"))\n",
        "    num2 = float(input(\"Introduce el segundo número: \"))\n",
        "    operacion = input(\"Introduce la operación (+, -, *, /): \")\n",
        "\n",
        "    if operacion == '+':\n",
        "        resultado = num1 + num2\n",
        "    elif operacion == '-':\n",
        "        resultado = num1 - num2\n",
        "    elif operacion == '*':\n",
        "        resultado = num1 * num2\n",
        "    elif operacion == '/':\n",
        "        resultado = num1 / num2\n",
        "    else:\n",
        "        resultado = \"Operación no válida, selecciona alguno de estos (+, -, *, /)\"\n",
        "\n",
        "    print(f\"El resultado es: {resultado}\")\n",
        "calculadora(0,0,0,0)"
      ],
      "metadata": {
        "colab": {
          "base_uri": "https://localhost:8080/"
        },
        "id": "z2-lGzRNMv7L",
        "outputId": "e66211b6-72b2-482e-c706-c06dd789f2cb"
      },
      "execution_count": null,
      "outputs": [
        {
          "output_type": "stream",
          "name": "stdout",
          "text": [
            "Introduce el primer número: 1\n",
            "Introduce el segundo número: 1\n",
            "Introduce la operación (+, -, *, /): -\n",
            "El resultado es: 0.0\n"
          ]
        }
      ]
    },
    {
      "cell_type": "markdown",
      "source": [
        "EJERCICIO #13"
      ],
      "metadata": {
        "id": "uY3brET3M-sl"
      }
    },
    {
      "cell_type": "code",
      "source": [
        "def notas(nota):\n",
        "    nota = int(input(\"Introduce tu nota (0-100): \"))\n",
        "\n",
        "    if nota == 100:\n",
        "        letra = 'A'\n",
        "    elif nota >= 90:\n",
        "        letra = 'B'\n",
        "    elif nota >= 80:\n",
        "        letra = 'C'\n",
        "    elif nota >= 70:\n",
        "        letra = 'D'\n",
        "    else:\n",
        "        letra = 'F'\n",
        "\n",
        "    print(f\"Tu calificación es: {letra}\")\n",
        "\n",
        "notas(0)"
      ],
      "metadata": {
        "colab": {
          "base_uri": "https://localhost:8080/"
        },
        "id": "UNheq_X-NCcb",
        "outputId": "180a7000-4d74-4b74-8674-aaee7ffb76a9"
      },
      "execution_count": null,
      "outputs": [
        {
          "output_type": "stream",
          "name": "stdout",
          "text": [
            "Introduce tu nota (0-100): 58\n",
            "Tu calificación es: F\n"
          ]
        }
      ]
    },
    {
      "cell_type": "markdown",
      "source": [
        "EJERCICIO #14"
      ],
      "metadata": {
        "id": "0mxij_7iNdhT"
      }
    },
    {
      "cell_type": "code",
      "source": [
        "def semana(numero,dias):\n",
        "    numero = int(input(\"Introduce un número del 1 al 7: \"))\n",
        "\n",
        "    dias = [\"Lunes\", \"Martes\", \"Miércoles\", \"Jueves\", \"Viernes\", \"Sábado\", \"Domingo\"]\n",
        "\n",
        "    if 1 <= numero <= 7:\n",
        "        print(f\"El día correspondiente es: {dias[numero-1]}\")\n",
        "    else:\n",
        "        print(\"Número no válido.\")\n",
        "\n",
        "semana(0,0)"
      ],
      "metadata": {
        "colab": {
          "base_uri": "https://localhost:8080/"
        },
        "id": "DENZOPaiNj37",
        "outputId": "e765816b-b00c-4d09-8cd9-beaf07fc0e8e"
      },
      "execution_count": null,
      "outputs": [
        {
          "output_type": "stream",
          "name": "stdout",
          "text": [
            "Introduce un número del 1 al 7: 7\n",
            "El día correspondiente es: Domingo\n"
          ]
        }
      ]
    },
    {
      "cell_type": "markdown",
      "source": [
        "EJERCICIO #15"
      ],
      "metadata": {
        "id": "BpESlMM9OK1T"
      }
    },
    {
      "cell_type": "code",
      "source": [
        "def calculadora(a,b,c):\n",
        "    a = float(input(\"Introduce el primer lado: \"))\n",
        "    b = float(input(\"Introduce el segundo lado: \"))\n",
        "    c = float(input(\"Introduce el tercer lado: \"))\n",
        "\n",
        "    if a + b > c and a + c > b and b + c > a:\n",
        "        if a == b == c:\n",
        "            tipo = \"Equilátero\"\n",
        "        elif a == b or a == c or b == c:\n",
        "            tipo = \"Isósceles\"\n",
        "        else:\n",
        "            tipo = \"Escaleno\"\n",
        "        print(f\"Los lados forman un triángulo {tipo}.\")\n",
        "    else:\n",
        "        print(\"Los lados no forman un triángulo.\")\n",
        "\n",
        "calculadora(0,0,0)"
      ],
      "metadata": {
        "colab": {
          "base_uri": "https://localhost:8080/"
        },
        "id": "q91vBlcrOMQS",
        "outputId": "856e1357-36fc-4980-f516-c86cda0c5021"
      },
      "execution_count": null,
      "outputs": [
        {
          "output_type": "stream",
          "name": "stdout",
          "text": [
            "Introduce el primer lado: 5\n",
            "Introduce el segundo lado: 5\n",
            "Introduce el tercer lado: 5\n",
            "Los lados forman un triángulo Equilátero.\n"
          ]
        }
      ]
    },
    {
      "cell_type": "markdown",
      "source": [
        "EJERCICIO #16"
      ],
      "metadata": {
        "id": "wuQkZz7uObhK"
      }
    },
    {
      "cell_type": "code",
      "source": [
        "def multiplicar(numero):\n",
        "    numero = int(input(\"Introduce un número: \"))\n",
        "\n",
        "    for i in range(1, 11):\n",
        "        print(f\"{numero} x {i} = {numero * i}\")\n",
        "\n",
        "multiplicar(0)"
      ],
      "metadata": {
        "colab": {
          "base_uri": "https://localhost:8080/"
        },
        "id": "IoNsSaPQOc2U",
        "outputId": "992978de-771d-49ca-ae59-6ce8130da4f7"
      },
      "execution_count": null,
      "outputs": [
        {
          "output_type": "stream",
          "name": "stdout",
          "text": [
            "Introduce un número: 5\n",
            "5 x 1 = 5\n",
            "5 x 2 = 10\n",
            "5 x 3 = 15\n",
            "5 x 4 = 20\n",
            "5 x 5 = 25\n",
            "5 x 6 = 30\n",
            "5 x 7 = 35\n",
            "5 x 8 = 40\n",
            "5 x 9 = 45\n",
            "5 x 10 = 50\n"
          ]
        }
      ]
    },
    {
      "cell_type": "markdown",
      "source": [
        "EJERCICIO #17"
      ],
      "metadata": {
        "id": "v9jziItaOkg8"
      }
    },
    {
      "cell_type": "code",
      "source": [
        "def calculadora(n,suma):\n",
        "    n = int(input(\"Introduce un número: \"))\n",
        "    suma = 0\n",
        "\n",
        "    for i in range(1, n+1):\n",
        "        suma += i\n",
        "\n",
        "    print(f\"La suma de los primeros {n} números naturales es: {suma}\")\n",
        "\n",
        "calculadora(0,0)"
      ],
      "metadata": {
        "colab": {
          "base_uri": "https://localhost:8080/"
        },
        "id": "cp-mjWspOlsZ",
        "outputId": "8b56fb44-e281-48ce-82d0-ea364b9f0b15"
      },
      "execution_count": null,
      "outputs": [
        {
          "output_type": "stream",
          "name": "stdout",
          "text": [
            "Introduce un número: 5\n",
            "La suma de los primeros 5 números naturales es: 15\n"
          ]
        }
      ]
    },
    {
      "cell_type": "markdown",
      "source": [
        "EJERCICIO #18"
      ],
      "metadata": {
        "id": "GGWpT_oDO6KC"
      }
    },
    {
      "cell_type": "code",
      "source": [
        "def factorial(n,fact):\n",
        "    n = int(input(\"Introduce un número: \"))\n",
        "    fact = 1\n",
        "\n",
        "    for i in range(1, n+1):\n",
        "        fact *= i\n",
        "\n",
        "    print(f\"El factorial de {n} es: {fact}\")\n",
        "factorial(0,0)"
      ],
      "metadata": {
        "colab": {
          "base_uri": "https://localhost:8080/"
        },
        "id": "rrnBoXOxO7YU",
        "outputId": "b84938a8-2940-4691-dea1-223e41801561"
      },
      "execution_count": null,
      "outputs": [
        {
          "output_type": "stream",
          "name": "stdout",
          "text": [
            "Introduce un número: 5\n",
            "El factorial de 5 es: 120\n"
          ]
        }
      ]
    },
    {
      "cell_type": "markdown",
      "source": [
        "EJERCICIO #19"
      ],
      "metadata": {
        "id": "jJRO_ZmOPTAy"
      }
    },
    {
      "cell_type": "code",
      "source": [
        "def terminos(n):\n",
        "    n = int(input(\"Introduce el número de términos: \"))\n",
        "    a, b = 0, 1\n",
        "\n",
        "    for i in range(n):\n",
        "        print(a, end=\" \")\n",
        "        a, b = b, a + b\n",
        "\n",
        "terminos(0)"
      ],
      "metadata": {
        "colab": {
          "base_uri": "https://localhost:8080/"
        },
        "id": "WnQjMXgvPUrT",
        "outputId": "36b34bd8-cebc-4ba1-debb-c99bb37c0c6a"
      },
      "execution_count": null,
      "outputs": [
        {
          "output_type": "stream",
          "name": "stdout",
          "text": [
            "Introduce el número de términos: 8\n",
            "0 1 1 2 3 5 8 13 "
          ]
        }
      ]
    },
    {
      "cell_type": "markdown",
      "source": [
        "EJERCICIO #20"
      ],
      "metadata": {
        "id": "nUe0Lh-MPe34"
      }
    },
    {
      "cell_type": "code",
      "source": [
        "def coolores(colores,color_correcto,intentos,adivinanza):\n",
        "  import random\n",
        "\n",
        "  colores = input(\"Introduce 10 colores separados por comas: \").split(',')\n",
        "  color_correcto = random.choice(colores)\n",
        "  intentos = 0\n",
        "\n",
        "  while intentos < 10:\n",
        "      intentos += 1\n",
        "      adivinanza = input(\"Adivina un color: \")\n",
        "\n",
        "      if adivinanza == color_correcto:\n",
        "          print(f\"¡Correcto! Adivinaste el color {color_correcto} en {intentos} intentos.\")\n",
        "          break\n",
        "      else:\n",
        "          print(f\"Incorrecto, llevas {intentos} intentos.\")\n",
        "  else:\n",
        "      print(f\"Has agotado tus 10 intentos. El color correcto era: {color_correcto}\")\n",
        "coolores(0,0,0,0)"
      ],
      "metadata": {
        "colab": {
          "base_uri": "https://localhost:8080/"
        },
        "id": "N6sWDXxgPhGp",
        "outputId": "8a9daab8-689f-4224-ec8c-f85e69663bb6"
      },
      "execution_count": null,
      "outputs": [
        {
          "output_type": "stream",
          "name": "stdout",
          "text": [
            "Introduce 10 colores separados por comas: rojo,azul,verde,amarillo,naranja,morado,rosa,blanco,negro,gris\n",
            "Adivina un color: rojo\n",
            "¡Correcto! Adivinaste el color rojo en 1 intentos.\n"
          ]
        }
      ]
    }
  ]
}