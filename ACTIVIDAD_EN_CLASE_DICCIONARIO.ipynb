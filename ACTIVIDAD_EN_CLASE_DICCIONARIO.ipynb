{
  "nbformat": 4,
  "nbformat_minor": 0,
  "metadata": {
    "colab": {
      "provenance": []
    },
    "kernelspec": {
      "name": "python3",
      "display_name": "Python 3"
    },
    "language_info": {
      "name": "python"
    }
  },
  "cells": [
    {
      "cell_type": "code",
      "source": [
        "# 15. Desarrolla un programa que valide si tres números pueden formar un triángulo y de qué tipo es.\n",
        "\n",
        "def tipo_triangulo(a, b, c):\n",
        "  if (a + b > c) and (a + c > b) and (b + c > a):\n",
        "    valido = True\n",
        "\n",
        "    if a == b == c:\n",
        "      tipo = 'equilatero'\n",
        "    elif a == b or a == c or b == c:\n",
        "      tipo = 'isosceles'\n",
        "    else:\n",
        "      tipo = 'escaleno'\n",
        "\n",
        "  else:\n",
        "    valido = False\n",
        "    tipo = None\n",
        "\n",
        "  return {'valido': valido, 'tipo': tipo}\n",
        "\n",
        "\n",
        "# Ejemplo de uso\n",
        "lado1 = 5\n",
        "lado2 = 5\n",
        "lado3 = 5\n",
        "\n",
        "resultado = tipo_triangulo(lado1, lado2, lado3)\n",
        "\n",
        "if resultado['valido']:\n",
        "  print(f\"Los lados {lado1}, {lado2} y {lado3} forman un triángulo {resultado['tipo']}.\")\n",
        "else:\n",
        "  print(f\"Los lados {lado1}, {lado2} y {lado3} no forman un triángulo válido.\")\n"
      ],
      "metadata": {
        "colab": {
          "base_uri": "https://localhost:8080/"
        },
        "id": "T0ZINLkqMa2r",
        "outputId": "a68d89ba-3efd-4e2d-d099-c4219e648ace"
      },
      "execution_count": 10,
      "outputs": [
        {
          "output_type": "stream",
          "name": "stdout",
          "text": [
            "Los lados 5, 5 y 5 forman un triángulo equilatero.\n"
          ]
        }
      ]
    },
    {
      "cell_type": "code",
      "source": [
        "# 16. Crea un programa que muestre la tabla de multiplicar de un número hasta el 10.\n",
        "\n",
        "def tabla_multiplicar(numero):\n",
        "  tabla = {}\n",
        "  for i in range(1, 11):\n",
        "    tabla[i] = numero * i\n",
        "  return tabla\n",
        "\n",
        "numero = 5\n",
        "resultado = tabla_multiplicar(numero)\n",
        "for i, producto in resultado.items():\n",
        "  print(f\"{numero} x {i} = {producto}\")\n"
      ],
      "metadata": {
        "colab": {
          "base_uri": "https://localhost:8080/"
        },
        "id": "Rfoq-9Q2L5Cj",
        "outputId": "006f50b2-0497-4e1d-fd62-421bac93009f"
      },
      "execution_count": 11,
      "outputs": [
        {
          "output_type": "stream",
          "name": "stdout",
          "text": [
            "5 x 1 = 5\n",
            "5 x 2 = 10\n",
            "5 x 3 = 15\n",
            "5 x 4 = 20\n",
            "5 x 5 = 25\n",
            "5 x 6 = 30\n",
            "5 x 7 = 35\n",
            "5 x 8 = 40\n",
            "5 x 9 = 45\n",
            "5 x 10 = 50\n"
          ]
        }
      ]
    },
    {
      "cell_type": "code",
      "source": [
        "# 17. Escribe un programa que calcule la suma de números naturales hasta n.\n",
        "\n",
        "def suma_naturales(n):\n",
        "  suma = {}\n",
        "  total = 0\n",
        "  for i in range(1, n + 1):\n",
        "    total += i\n",
        "    suma[i] = total\n",
        "  return suma\n",
        "\n",
        "n = 10\n",
        "resultado = suma_naturales(n)\n",
        "print(resultado)\n"
      ],
      "metadata": {
        "colab": {
          "base_uri": "https://localhost:8080/"
        },
        "id": "ktm7e17FNnlx",
        "outputId": "a36475fc-8a50-4ef2-a764-afd7c65e9768"
      },
      "execution_count": 32,
      "outputs": [
        {
          "output_type": "stream",
          "name": "stdout",
          "text": [
            "{1: 1, 2: 3, 3: 6, 4: 10, 5: 15, 6: 21, 7: 28, 8: 36, 9: 45, 10: 55}\n"
          ]
        }
      ]
    },
    {
      "cell_type": "code",
      "source": [
        "# 18. Desarrolla un programa que calcule el factorial de un número.\n",
        "\n",
        "def factorial(n):\n",
        "  if n < 0:\n",
        "    return {'factorial': None, 'error': 'No existen factoriales de números negativos'}\n",
        "  elif n == 0:\n",
        "      return {'factorial': 1}\n",
        "  else:\n",
        "    fact = 1\n",
        "    for i in range(1, n + 1):\n",
        "        fact *= i\n",
        "    return {'factorial': fact}\n",
        "\n",
        "numero = 5\n",
        "resultado = factorial(numero)\n",
        "print(resultado)\n"
      ],
      "metadata": {
        "colab": {
          "base_uri": "https://localhost:8080/"
        },
        "id": "t3k9cyS7OqJB",
        "outputId": "005cf780-129c-4814-dbcc-3dd3372abba6"
      },
      "execution_count": 23,
      "outputs": [
        {
          "output_type": "stream",
          "name": "stdout",
          "text": [
            "{'factorial': 120}\n"
          ]
        }
      ]
    },
    {
      "cell_type": "code",
      "source": [
        "# 19. Crea un programa que muestre los primeros n números de la serie Fibonacci.\n",
        "\n",
        "def fibonacci(n):\n",
        "    fib_sequence = {}\n",
        "    a, b = 0, 1\n",
        "    for i in range(n):\n",
        "        fib_sequence[i] = a\n",
        "        a, b = b, a + b\n",
        "    return fib_sequence\n",
        "\n",
        "n = 10\n",
        "resultado = fibonacci(n)\n",
        "print(resultado)"
      ],
      "metadata": {
        "colab": {
          "base_uri": "https://localhost:8080/"
        },
        "id": "h9sXQplyO8Jo",
        "outputId": "47ca7f9a-f6ff-4df4-ef6c-c0dd79404980"
      },
      "execution_count": 24,
      "outputs": [
        {
          "output_type": "stream",
          "name": "stdout",
          "text": [
            "{0: 0, 1: 1, 2: 1, 3: 2, 4: 3, 5: 5, 6: 8, 7: 13, 8: 21, 9: 34}\n"
          ]
        }
      ]
    },
    {
      "cell_type": "code",
      "source": [
        "# 20. Escribe un programa que adivine entre un conjunto de diez colores definidos por el usuario, con un máximo de 10 intentos.\n",
        "import random\n",
        "\n",
        "def adivinar_color():\n",
        "    colores = {}\n",
        "    for i in range(10):\n",
        "      color = input(f\"Ingresa el color {i + 1}: \")\n",
        "      colores[i] = color\n",
        "\n",
        "    color_secreto = random.choice(list(colores.values()))\n",
        "    intentos = 0\n",
        "    adivinado = False\n",
        "\n",
        "    while intentos < 10 and not adivinado:\n",
        "        intento = input(\"Adivina el color: \")\n",
        "        intentos += 1\n",
        "        if intento.lower() == color_secreto.lower():\n",
        "            adivinado = True\n",
        "            return {'adivinado': True, 'intentos': intentos}\n",
        "        else:\n",
        "          print(\"Incorrecto\")\n",
        "\n",
        "    return {'adivinado': False, 'intentos': intentos}\n",
        "\n",
        "resultado = adivinar_color()\n",
        "print(resultado)"
      ],
      "metadata": {
        "colab": {
          "base_uri": "https://localhost:8080/"
        },
        "id": "548Xlg8kPW5g",
        "outputId": "133725f1-101a-442e-bbe2-5ee7cc085f99"
      },
      "execution_count": 25,
      "outputs": [
        {
          "output_type": "stream",
          "name": "stdout",
          "text": [
            "Ingresa el color 1: azul\n",
            "Ingresa el color 2: rojo\n",
            "Ingresa el color 3: amarillo\n",
            "Ingresa el color 4: verde\n",
            "Ingresa el color 5: gris\n",
            "Ingresa el color 6: morado\n",
            "Ingresa el color 7: rosa\n",
            "Ingresa el color 8: blanco\n",
            "Ingresa el color 9: negro\n",
            "Ingresa el color 10: marron\n",
            "Adivina el color: azul\n",
            "Incorrecto\n",
            "Adivina el color: negro\n",
            "Incorrecto\n",
            "Adivina el color: rojo\n",
            "{'adivinado': True, 'intentos': 3}\n"
          ]
        }
      ]
    },
    {
      "cell_type": "code",
      "source": [
        "# 21. Desarrolla un programa que muestre los números pares del 1 al 100.\n",
        "\n",
        "def numeros_pares():\n",
        "    pares = {}\n",
        "    for i in range(2, 101, 2):\n",
        "        pares[i/2] = i\n",
        "    return pares\n",
        "\n",
        "resultado = numeros_pares()\n",
        "print(resultado)"
      ],
      "metadata": {
        "colab": {
          "base_uri": "https://localhost:8080/"
        },
        "id": "mxx61QHXP4CY",
        "outputId": "ae4e4e6d-ec8d-4eff-fa39-e15e85e30005"
      },
      "execution_count": 26,
      "outputs": [
        {
          "output_type": "stream",
          "name": "stdout",
          "text": [
            "{1.0: 2, 2.0: 4, 3.0: 6, 4.0: 8, 5.0: 10, 6.0: 12, 7.0: 14, 8.0: 16, 9.0: 18, 10.0: 20, 11.0: 22, 12.0: 24, 13.0: 26, 14.0: 28, 15.0: 30, 16.0: 32, 17.0: 34, 18.0: 36, 19.0: 38, 20.0: 40, 21.0: 42, 22.0: 44, 23.0: 46, 24.0: 48, 25.0: 50, 26.0: 52, 27.0: 54, 28.0: 56, 29.0: 58, 30.0: 60, 31.0: 62, 32.0: 64, 33.0: 66, 34.0: 68, 35.0: 70, 36.0: 72, 37.0: 74, 38.0: 76, 39.0: 78, 40.0: 80, 41.0: 82, 42.0: 84, 43.0: 86, 44.0: 88, 45.0: 90, 46.0: 92, 47.0: 94, 48.0: 96, 49.0: 98, 50.0: 100}\n"
          ]
        }
      ]
    },
    {
      "cell_type": "code",
      "source": [
        "# 22. Crea un programa que calcule la suma de los dígitos de un número.\n",
        "\n",
        "def suma_digitos(numero):\n",
        "    suma = 0\n",
        "    for digito in str(numero):\n",
        "        suma += int(digito)\n",
        "    return {'suma': suma}\n",
        "\n",
        "numero = 12345\n",
        "resultado = suma_digitos(numero)\n",
        "print(resultado)\n"
      ],
      "metadata": {
        "colab": {
          "base_uri": "https://localhost:8080/"
        },
        "id": "myJiyRc3QQQn",
        "outputId": "e4538555-61b7-4eb1-be5e-bf5773448fcf"
      },
      "execution_count": 27,
      "outputs": [
        {
          "output_type": "stream",
          "name": "stdout",
          "text": [
            "{'suma': 15}\n"
          ]
        }
      ]
    },
    {
      "cell_type": "code",
      "source": [
        "# 23. Escribe un programa que determine si un número es primo.\n",
        "\n",
        "def es_primo(numero):\n",
        "    if numero <= 1:\n",
        "        return {'primo': False}\n",
        "    for i in range(2, int(numero**0.5) + 1):\n",
        "        if numero % i == 0:\n",
        "            return {'primo': False}\n",
        "    return {'primo': True}\n",
        "\n",
        "numero = 17\n",
        "resultado = es_primo(numero)\n",
        "print(resultado)"
      ],
      "metadata": {
        "colab": {
          "base_uri": "https://localhost:8080/"
        },
        "id": "LpRJ3CakQj3H",
        "outputId": "3a83f6d8-5f21-45bf-d2a4-264375b5c5f5"
      },
      "execution_count": 29,
      "outputs": [
        {
          "output_type": "stream",
          "name": "stdout",
          "text": [
            "{'primo': True}\n"
          ]
        }
      ]
    },
    {
      "cell_type": "code",
      "source": [
        "# 24. Desarrolla un programa que muestre el patrón de un triángulo con asteriscos.\n",
        "\n",
        "def triangulo_asteriscos(n):\n",
        "  triangulo = {}\n",
        "  for i in range(1, n + 1):\n",
        "    triangulo[i] = \"*\" * i\n",
        "  return triangulo\n",
        "\n",
        "n = 5\n",
        "resultado = triangulo_asteriscos(n)\n",
        "print(resultado)"
      ],
      "metadata": {
        "colab": {
          "base_uri": "https://localhost:8080/"
        },
        "id": "NxpRVBdXQrTx",
        "outputId": "66bad7b2-8426-48fa-84b7-2d5f0b3b11f9"
      },
      "execution_count": 30,
      "outputs": [
        {
          "output_type": "stream",
          "name": "stdout",
          "text": [
            "{1: '*', 2: '**', 3: '***', 4: '****', 5: '*****'}\n"
          ]
        }
      ]
    },
    {
      "cell_type": "code",
      "source": [
        "# 25. Crea un programa que calcule la potencia de un número sin usar el operador **.\n",
        "def potencia(base, exponente):\n",
        "    resultado = 1\n",
        "    for _ in range(exponente):\n",
        "        resultado *= base\n",
        "    return {'potencia': resultado}\n",
        "\n",
        "base = 2\n",
        "exponente = 3\n",
        "resultado = potencia(base, exponente)\n",
        "resultado"
      ],
      "metadata": {
        "colab": {
          "base_uri": "https://localhost:8080/"
        },
        "id": "4m2LTyqSQyGn",
        "outputId": "55aed8fb-cefd-4a2c-a308-647b25dec176"
      },
      "execution_count": 31,
      "outputs": [
        {
          "output_type": "execute_result",
          "data": {
            "text/plain": [
              "{'potencia': 8}"
            ]
          },
          "metadata": {},
          "execution_count": 31
        }
      ]
    }
  ]
}