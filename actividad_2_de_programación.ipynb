{
  "nbformat": 4,
  "nbformat_minor": 0,
  "metadata": {
    "colab": {
      "provenance": []
    },
    "kernelspec": {
      "name": "python3",
      "display_name": "Python 3"
    },
    "language_info": {
      "name": "python"
    }
  },
  "cells": [
    {
      "cell_type": "markdown",
      "source": [
        "Alejandra del Rocio Piva Nuñez\n"
      ],
      "metadata": {
        "id": "QamQyEuPhFPj"
      }
    },
    {
      "cell_type": "code",
      "execution_count": 2,
      "metadata": {
        "colab": {
          "base_uri": "https://localhost:8080/"
        },
        "id": "WYDxBchwg16-",
        "outputId": "72ed175a-bd98-4611-8344-4c3b4f2c0bf9"
      },
      "outputs": [
        {
          "output_type": "stream",
          "name": "stdout",
          "text": [
            "Ingresa un número: 581\n",
            "El número 581 es impar.\n"
          ]
        }
      ],
      "source": [
        "# 6 determine si un numero es par o impar\n",
        "num = int(input('Ingresa un número real: '))\n",
        "\n",
        "if num % 2 == 0:\n",
        "    print(f'El número {num} es par.')\n",
        "else:\n",
        "    print(f'El número {num} es impar.')\n",
        "\n",
        "\n"
      ]
    },
    {
      "cell_type": "code",
      "source": [
        "# 7 determinar si un año es bisiestro\n",
        "año = int(input('Ingresa cualquier año: '))\n",
        "\n",
        "if (año % 4 == 0 and año % 100 != 0) or (año % 400 == 0):\n",
        "    print(f'El año {año} es bisiesto.')\n",
        "else:\n",
        "    print(f'El año {año} no es bisiesto.')"
      ],
      "metadata": {
        "colab": {
          "base_uri": "https://localhost:8080/"
        },
        "id": "rcwmOkNOh9us",
        "outputId": "58fe1ad7-cfa9-4f01-f317-784f4d56638d"
      },
      "execution_count": 3,
      "outputs": [
        {
          "output_type": "stream",
          "name": "stdout",
          "text": [
            "Ingresa un año: 2023\n",
            "El año 2023 no es bisiesto.\n"
          ]
        }
      ]
    },
    {
      "cell_type": "code",
      "source": [
        "# 8 determinar si una persona pertenece a la tercera edad\n",
        "n = input('Ingresa tu nombre: ')\n",
        "e = int(input('Ingresa tu edad: '))\n",
        "\n",
        "if e >= 70:\n",
        "    print(f'{n}, se le da prioridad en la fila.')\n",
        "else:\n",
        "    print(f'{n}, no tiene prioridad en la fila.')"
      ],
      "metadata": {
        "colab": {
          "base_uri": "https://localhost:8080/"
        },
        "id": "JHagCeJTiTnM",
        "outputId": "3f356140-4cbe-4329-95b3-ccaca002e7c4"
      },
      "execution_count": 4,
      "outputs": [
        {
          "output_type": "stream",
          "name": "stdout",
          "text": [
            "Ingresa tu nombre: David\n",
            "Ingresa tu edad: 18\n",
            "David, no tiene prioridad en la fila.\n"
          ]
        }
      ]
    },
    {
      "cell_type": "code",
      "source": [
        "# 9 comparar 3 numeros y determinar el mayor\n",
        "n1 = float(input('Ingresa el primer número: '))\n",
        "n2 = float(input('Ingresa el segundo número: '))\n",
        "n3 = float(input('Ingresa el tercer número: '))\n",
        "\n",
        "if n1 > n2 and n1 > n3:\n",
        "    print(f'El número mayor es {n1}')\n",
        "elif n2 > n1 and n2 > n3:\n",
        "    print(f'El número mayor es {n2}')\n",
        "elif n3 > n1 and n3 > n2:\n",
        "    print(f'El número mayor es {n3}')\n"
      ],
      "metadata": {
        "colab": {
          "base_uri": "https://localhost:8080/"
        },
        "id": "iW7sQ5V8ixVa",
        "outputId": "563bc639-3e7b-468e-cfef-367590dc3a63"
      },
      "execution_count": 5,
      "outputs": [
        {
          "output_type": "stream",
          "name": "stdout",
          "text": [
            "Ingresa el primer número: 5\n",
            "Ingresa el segundo número: 4\n",
            "Ingresa el tercer número: 1\n",
            "El número mayor es 5.0\n"
          ]
        }
      ]
    },
    {
      "cell_type": "code",
      "source": [
        "# 10 Determinar el tipo de triángulo según sus lados\n",
        "l1 = float(input('Ingresa el primer lado: '))\n",
        "l2 = float(input('Ingresa el segundo lado: '))\n",
        "l3 = float(input('Ingresa el tercer lado: '))\n",
        "\n",
        "if l1 + l2 > l3 and l1 + l3 > l2 and l2 + l3 > l1:\n",
        "    if l1 == l2 == l3:\n",
        "        print(f'El triángulo con lados {l1}, {l2} y {l3} es equilátero.')\n",
        "    elif l1 == l2 or l1 == l3 or l2 == l3:\n",
        "        print(f'El triángulo con lados {l1}, {l2} y {l3} es isósceles.')\n",
        "    else:\n",
        "        print(f'El triángulo con lados {l1}, {l2} y {l3} es escaleno.')\n",
        "else:\n",
        "    print('Los valores ingresados no forman un triángulo válido.')\n"
      ],
      "metadata": {
        "colab": {
          "base_uri": "https://localhost:8080/"
        },
        "id": "tKMAnUaGjq2O",
        "outputId": "28fcb780-10a3-4c19-fee4-d58ebd1e4d81"
      },
      "execution_count": 11,
      "outputs": [
        {
          "output_type": "stream",
          "name": "stdout",
          "text": [
            "Ingresa el primer lado: 5\n",
            "Ingresa el segundo lado: 10\n",
            "Ingresa el tercer lado: 15\n",
            "Los valores ingresados no forman un triángulo válido.\n"
          ]
        }
      ]
    }
  ]
}